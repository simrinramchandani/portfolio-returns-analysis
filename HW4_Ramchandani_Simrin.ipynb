{
 "cells": [
  {
   "cell_type": "markdown",
   "id": "9113f69f-c0ca-49aa-abf9-f4b9ffb28787",
   "metadata": {},
   "source": [
    "<center>\n",
    "    <b>\n",
    "        <span style=\"font-size:24px;\">FINA 4335 - Computational Methods and Their Applications <span style=\"color:red;\">in Finance</span></span>\n",
    "    </b>\n",
    "</center>\n",
    "<center><span style=\"font-size:22px;\"><b>Homework Assignment 4 <b></span></center>\n",
    "<center><span style=\"font-size:22px;\"><b>Due date: 11/26/2024 11:59 ET</b></span></center>  "
   ]
  },
  {
   "cell_type": "markdown",
   "id": "6e21c669-7102-4314-9881-a90c10520911",
   "metadata": {},
   "source": [
    "## Instructions\n",
    "\n",
    "1. Please rename the notebook. It should have the following format: **HW4_LastName_FirstName**, where LastName and FirstName are your last name and first name, respectively.\n",
    "1. Please enter your first name, your last name, and your student id number in the dedicated cell.\n",
    "1. Use your code or function on a variety of inputs to test that it works like you'd like it to. For example, you may print part of the data\n",
    "1. Write your code in the specific cells.\n",
    "1. After you answer all questions:\n",
    "    1. Restart your kernel and run all cells\n",
    "    1. Save your notebook and export your notebook as HTML\n",
    "    1. Submit your **notebook** and **HTML** to Canvas, under Homework Assignments --> HW4.\n",
    "       1. Failure to submit the HTML file  (with all outputs) will result in up to <span style=\"color: red;\">20% grade deduction</span>.\n",
    "\n",
    "**Note**:\n",
    "- Name the variables exactly as requested. Python is **case-sensitive**, so `df` and `DF` are different variables\n",
    "- Always **use code rather than eyeballing or manual calculations** to answer questions\n",
    "- Write your code in a **smart and efficient** way\n",
    "  - Inefficient code (including repetitive code) will be subject to grade deduction\n",
    "- Include sufficient **comments** on your code\n",
    "  - Failure to include sufficient comments will result in a 10 points grade deduction\n",
    "- You may **restart kernel and clear output** occasionally to prevent unexpected results\n",
    "- Use the methods **covered in modules 1-12**; </span>. Using formulas inconsistent to the lecture notebooks receives <span style=\"color: red;\">20% of grade penalty</span>\n",
    "- For conceptual questions, your answer must be related to code results and need to be **very specific** and clearly separate different points. You should not blend different points together"
   ]
  },
  {
   "cell_type": "markdown",
   "id": "327653ee-5e90-4c03-8163-48e7a13546d9",
   "metadata": {},
   "source": [
    "## Please enter your information here:\n",
    "##### First Name: Simrin\n",
    "##### Last Name: Ramchandani\n",
    "##### Student ID Number: 001506072"
   ]
  },
  {
   "cell_type": "code",
   "execution_count": 1,
   "id": "48048dd1-0b38-442e-8bdd-ebe666bc6a79",
   "metadata": {},
   "outputs": [],
   "source": [
    "import numpy as np\n",
    "import pandas as pd\n",
    "import datetime as dt\n",
    "import yfinance as yf\n",
    "import scipy.stats as stats \n",
    "import statsmodels.api as sm\n",
    "import pandas_datareader.data as web\n",
    "import matplotlib.pyplot as plt\n",
    "%matplotlib inline\n",
    "%config InlineBackend.figure_format = 'retina'"
   ]
  },
  {
   "cell_type": "code",
   "execution_count": 2,
   "id": "8aa88eeb-ce43-4ea8-b31f-67d81a16361d",
   "metadata": {},
   "outputs": [
    {
     "name": "stdout",
     "output_type": "stream",
     "text": [
      "My yfinance version is 0.2.46\n",
      "My pandas version is 2.2.2\n",
      "My numpy version is 1.26.4\n"
     ]
    }
   ],
   "source": [
    "print('My yfinance version is',yf.__version__)\n",
    "print('My pandas version is',pd.__version__)\n",
    "print('My numpy version is',np.__version__)"
   ]
  },
  {
   "cell_type": "markdown",
   "id": "030bae02-65a3-4681-bce9-cd206752ea7d",
   "metadata": {},
   "source": [
    "### Building a reversal factor"
   ]
  },
  {
   "cell_type": "markdown",
   "id": "93ff053e-152f-484f-a8df-5406e77d8534",
   "metadata": {},
   "source": [
    "#### Question 1 (10 points)\n",
    "Read the csv `monthly_returns_HW4.csv` to a DataFrame called `stock_returns`. Parse the column 'DATE' to `datetime` format. \n",
    "Next, sort `stock_returns` by 'PERMNO' and 'DATE'."
   ]
  },
  {
   "cell_type": "code",
   "execution_count": 3,
   "id": "55a18e52-066f-46bb-b174-9de3b241ff95",
   "metadata": {},
   "outputs": [],
   "source": [
    "# Read the CSV data into a DataFrame\n",
    "stock_returns = pd.read_csv('monthly_returns_HW4.csv')\n",
    "\n",
    "# Convert the 'DATE' column to a datetime object\n",
    "stock_returns['DATE'] = pd.to_datetime(stock_returns['DATE'], format='%Y%m%d')\n",
    "\n",
    "# Sort dataframe\n",
    "stock_returns.sort_values(['PERMNO', 'DATE'], inplace=True)\n"
   ]
  },
  {
   "cell_type": "code",
   "execution_count": 4,
   "id": "c3aa04a9-4c25-4722-8098-0ed60a230c70",
   "metadata": {},
   "outputs": [
    {
     "name": "stdout",
     "output_type": "stream",
     "text": [
      "        DATE  PERMNO       PRC       RET\n",
      "0 2014-01-31   10001   9.16083  0.147424\n",
      "1 2014-02-28   10001   9.35064  0.025601\n",
      "2 2014-03-31   10001  10.04994  0.079514\n",
      "3 2014-04-30   10001  10.88910  0.087884\n",
      "4 2014-05-30   10001  10.47951 -0.033453\n",
      "<class 'pandas.core.frame.DataFrame'>\n",
      "RangeIndex: 321105 entries, 0 to 321104\n",
      "Data columns (total 4 columns):\n",
      " #   Column  Non-Null Count   Dtype         \n",
      "---  ------  --------------   -----         \n",
      " 0   DATE    321105 non-null  datetime64[ns]\n",
      " 1   PERMNO  321105 non-null  int64         \n",
      " 2   PRC     319732 non-null  float64       \n",
      " 3   RET     319720 non-null  float64       \n",
      "dtypes: datetime64[ns](1), float64(2), int64(1)\n",
      "memory usage: 9.8 MB\n"
     ]
    }
   ],
   "source": [
    "# Evaluation cell (do not change)\n",
    "print(stock_returns.head())\n",
    "stock_returns.info()"
   ]
  },
  {
   "cell_type": "markdown",
   "id": "92687983-8e37-4030-9b89-5ab51449d605",
   "metadata": {},
   "source": [
    "#### Question 2 (10 points)\n",
    "In `stock_returns`, drop rows if a stock's unadjusted price (`PRC`) at month t-1 is less or equal to $5. This step removes penny stocks that are illiquid."
   ]
  },
  {
   "cell_type": "code",
   "execution_count": 5,
   "id": "ce0d6e65-799d-487d-9b58-d2500b601ffd",
   "metadata": {},
   "outputs": [],
   "source": [
    "# Add a new column for the previous month's price (PRC at t-1)\n",
    "stock_returns['PRC_t_minus_1'] = stock_returns.groupby('PERMNO')['PRC'].shift(1)\n",
    "\n",
    "# Filter rows where PRC at t-1 is greater than $5\n",
    "stock_returns = stock_returns[stock_returns['PRC_t_minus_1'] > 5]\n",
    "\n",
    "# Drop helper column\n",
    "stock_returns = stock_returns.drop(columns=['PRC_t_minus_1'])"
   ]
  },
  {
   "cell_type": "code",
   "execution_count": 6,
   "id": "eb6d6c66-d80a-4723-a75a-5208fae11a28",
   "metadata": {},
   "outputs": [
    {
     "name": "stdout",
     "output_type": "stream",
     "text": [
      "             DATE  PERMNO        PRC       RET\n",
      "1      2014-02-28   10001    9.35064  0.025601\n",
      "2      2014-03-31   10001   10.04994  0.079514\n",
      "3      2014-04-30   10001   10.88910  0.087884\n",
      "4      2014-05-30   10001   10.47951 -0.033453\n",
      "5      2014-06-30   10001   10.52946  0.009047\n",
      "...           ...     ...        ...       ...\n",
      "321100 2023-08-31   93436  257.82191 -0.034927\n",
      "321101 2023-09-29   93436  249.96978 -0.030426\n",
      "321102 2023-10-31   93436  200.63916 -0.197149\n",
      "321103 2023-11-30   93436  239.83992  0.195184\n",
      "321104 2023-12-29   93436  248.23152  0.034953\n",
      "\n",
      "[244545 rows x 4 columns]\n"
     ]
    }
   ],
   "source": [
    "# Evaluation cell (do not change)\n",
    "stock_returns.describe()\n",
    "print(stock_returns)"
   ]
  },
  {
   "cell_type": "markdown",
   "id": "88df8c77-41a1-4096-948f-3a3b834a8d7f",
   "metadata": {},
   "source": [
    "#### Question 3 (10 points)\n",
    "Add one column to `stock_returns`:\n",
    "\n",
    "- `reversal`:  a stock's return on month $t-1$. This variable measures a stock's short-term reversal.\n",
    "  \n",
    "  - According to Quantpedia, [the short-term reversal anomaly, the phenomenon that stocks with relatively low returns over the past month or week earn positive abnormal returns in the following month or week, and stocks with high returns earn negative abnormal returns, is well-researched.](https://quantpedia.com/strategies/short-term-reversal-in-stocks/)"
   ]
  },
  {
   "cell_type": "code",
   "execution_count": 7,
   "id": "84eb8b3c-1fb4-405a-a29a-ad092ed511b8",
   "metadata": {},
   "outputs": [],
   "source": [
    "# Add a 'reversal' column\n",
    "stock_returns['reversal'] = stock_returns.groupby('PERMNO')['RET'].shift(1)\n",
    "# stock_returns.head()"
   ]
  },
  {
   "cell_type": "code",
   "execution_count": 8,
   "id": "2ae80109-d6e4-466e-9c50-8e17e93ac0a4",
   "metadata": {},
   "outputs": [
    {
     "name": "stdout",
     "output_type": "stream",
     "text": [
      "         DATE  PERMNO       RET  reversal\n",
      "82 2014-02-28   10026  0.054203       NaN\n",
      "83 2014-03-31   10026  0.036677  0.054203\n",
      "84 2014-04-30   10026 -0.024670  0.036677\n",
      "85 2014-05-30   10026  0.000747 -0.024670\n",
      "86 2014-06-30   10026  0.008212  0.000747\n",
      "87 2014-07-31   10026 -0.042775  0.008212\n",
      "88 2014-08-29   10026  0.051231 -0.042775\n",
      "89 2014-09-30   10026 -0.008755  0.051231\n"
     ]
    }
   ],
   "source": [
    "# Evaluation cell (do not change)\n",
    "one_stock=stock_returns['PERMNO'].unique()[2]\n",
    "print(stock_returns.loc[stock_returns['PERMNO']==one_stock,['DATE','PERMNO','RET','reversal']].head(8))"
   ]
  },
  {
   "cell_type": "markdown",
   "id": "0e5c35b6-c9ca-409b-af7f-02c359ad3906",
   "metadata": {},
   "source": [
    "#### Question 4 (15 points)\n",
    "Each month, assign stocks to 5 buckets (quintiles) based on their short-term reversal. The newly assigned column should be called `bucket_reversal`.\n",
    "- Hint: To accomplish this, first create a separate DataFrame that excludes rows with missing values in `reversal`. Use this filtered DataFrame to generate `bucket_reversal`, then merge it back with the original `stock_returns` DataFrame. This method preserves all original variables in `stock_returns` while creating `bucket_reversal`."
   ]
  },
  {
   "cell_type": "code",
   "execution_count": 9,
   "id": "abbef54b-26c7-45be-b650-ec939984d178",
   "metadata": {},
   "outputs": [
    {
     "name": "stderr",
     "output_type": "stream",
     "text": [
      "C:\\Users\\simri\\AppData\\Local\\Temp\\ipykernel_24656\\3324987460.py:5: SettingWithCopyWarning: \n",
      "A value is trying to be set on a copy of a slice from a DataFrame.\n",
      "Try using .loc[row_indexer,col_indexer] = value instead\n",
      "\n",
      "See the caveats in the documentation: https://pandas.pydata.org/pandas-docs/stable/user_guide/indexing.html#returning-a-view-versus-a-copy\n",
      "  reversal_filtered['bucket_reversal'] = (\n",
      "C:\\Users\\simri\\AppData\\Local\\Temp\\ipykernel_24656\\3324987460.py:11: SettingWithCopyWarning: \n",
      "A value is trying to be set on a copy of a slice from a DataFrame.\n",
      "Try using .loc[row_indexer,col_indexer] = value instead\n",
      "\n",
      "See the caveats in the documentation: https://pandas.pydata.org/pandas-docs/stable/user_guide/indexing.html#returning-a-view-versus-a-copy\n",
      "  reversal_filtered['bucket_reversal'] = reversal_filtered['bucket_reversal'].astype(int)\n"
     ]
    }
   ],
   "source": [
    "# Exclude rows with missing values in the 'reversal' column\n",
    "reversal_filtered = stock_returns.dropna(subset=['reversal'])\n",
    "\n",
    "# Assign stocks to 5 buckets (quintiles) based on 'reversal'\n",
    "reversal_filtered['bucket_reversal'] = (\n",
    "    reversal_filtered.groupby('DATE', group_keys=False)['reversal']\n",
    "    .apply(pd.qcut, q=5, labels=np.arange(1, 6))\n",
    ")\n",
    "\n",
    "# Convert the bucket to integer\n",
    "reversal_filtered['bucket_reversal'] = reversal_filtered['bucket_reversal'].astype(int)\n",
    "\n",
    "# Merge the bucket_reversal back into the original stock_returns\n",
    "stock_returns = stock_returns.merge(\n",
    "    reversal_filtered[['DATE', 'PERMNO', 'bucket_reversal']],\n",
    "    on=['DATE', 'PERMNO'],\n",
    "    how='left'\n",
    ")\n"
   ]
  },
  {
   "cell_type": "code",
   "execution_count": 10,
   "id": "5f2e92a9-42a9-4273-8796-1e7809ca9df4",
   "metadata": {},
   "outputs": [
    {
     "data": {
      "text/html": [
       "<div>\n",
       "<style scoped>\n",
       "    .dataframe tbody tr th:only-of-type {\n",
       "        vertical-align: middle;\n",
       "    }\n",
       "\n",
       "    .dataframe tbody tr th {\n",
       "        vertical-align: top;\n",
       "    }\n",
       "\n",
       "    .dataframe thead th {\n",
       "        text-align: right;\n",
       "    }\n",
       "</style>\n",
       "<table border=\"1\" class=\"dataframe\">\n",
       "  <thead>\n",
       "    <tr style=\"text-align: right;\">\n",
       "      <th></th>\n",
       "      <th>DATE</th>\n",
       "      <th>PERMNO</th>\n",
       "      <th>RET</th>\n",
       "      <th>reversal</th>\n",
       "      <th>bucket_reversal</th>\n",
       "    </tr>\n",
       "  </thead>\n",
       "  <tbody>\n",
       "    <tr>\n",
       "      <th>0</th>\n",
       "      <td>2014-02-28</td>\n",
       "      <td>10001</td>\n",
       "      <td>0.025601</td>\n",
       "      <td>NaN</td>\n",
       "      <td>NaN</td>\n",
       "    </tr>\n",
       "    <tr>\n",
       "      <th>1</th>\n",
       "      <td>2014-03-31</td>\n",
       "      <td>10001</td>\n",
       "      <td>0.079514</td>\n",
       "      <td>0.025601</td>\n",
       "      <td>2.0</td>\n",
       "    </tr>\n",
       "    <tr>\n",
       "      <th>2</th>\n",
       "      <td>2014-04-30</td>\n",
       "      <td>10001</td>\n",
       "      <td>0.087884</td>\n",
       "      <td>0.079514</td>\n",
       "      <td>5.0</td>\n",
       "    </tr>\n",
       "    <tr>\n",
       "      <th>3</th>\n",
       "      <td>2014-05-30</td>\n",
       "      <td>10001</td>\n",
       "      <td>-0.033453</td>\n",
       "      <td>0.087884</td>\n",
       "      <td>5.0</td>\n",
       "    </tr>\n",
       "    <tr>\n",
       "      <th>4</th>\n",
       "      <td>2014-06-30</td>\n",
       "      <td>10001</td>\n",
       "      <td>0.009047</td>\n",
       "      <td>-0.033453</td>\n",
       "      <td>2.0</td>\n",
       "    </tr>\n",
       "    <tr>\n",
       "      <th>5</th>\n",
       "      <td>2014-07-31</td>\n",
       "      <td>10001</td>\n",
       "      <td>0.227003</td>\n",
       "      <td>0.009047</td>\n",
       "      <td>2.0</td>\n",
       "    </tr>\n",
       "    <tr>\n",
       "      <th>6</th>\n",
       "      <td>2014-08-29</td>\n",
       "      <td>10001</td>\n",
       "      <td>-0.121291</td>\n",
       "      <td>0.227003</td>\n",
       "      <td>5.0</td>\n",
       "    </tr>\n",
       "    <tr>\n",
       "      <th>7</th>\n",
       "      <td>2014-09-30</td>\n",
       "      <td>10001</td>\n",
       "      <td>0.050924</td>\n",
       "      <td>-0.121291</td>\n",
       "      <td>1.0</td>\n",
       "    </tr>\n",
       "  </tbody>\n",
       "</table>\n",
       "</div>"
      ],
      "text/plain": [
       "        DATE  PERMNO       RET  reversal  bucket_reversal\n",
       "0 2014-02-28   10001  0.025601       NaN              NaN\n",
       "1 2014-03-31   10001  0.079514  0.025601              2.0\n",
       "2 2014-04-30   10001  0.087884  0.079514              5.0\n",
       "3 2014-05-30   10001 -0.033453  0.087884              5.0\n",
       "4 2014-06-30   10001  0.009047 -0.033453              2.0\n",
       "5 2014-07-31   10001  0.227003  0.009047              2.0\n",
       "6 2014-08-29   10001 -0.121291  0.227003              5.0\n",
       "7 2014-09-30   10001  0.050924 -0.121291              1.0"
      ]
     },
     "execution_count": 10,
     "metadata": {},
     "output_type": "execute_result"
    }
   ],
   "source": [
    "# Evaluation cell (do not change)\n",
    "stock_returns.loc[:,['DATE','PERMNO','RET','reversal', 'bucket_reversal']].head(8)"
   ]
  },
  {
   "cell_type": "markdown",
   "id": "7eff4a9c-374d-4c9e-870f-32709cd35059",
   "metadata": {},
   "source": [
    "#### Question 5 (15 points)\n",
    "Create equally-weighted quintile portfolios for each month. The final portfolios should be stored in a DataFrame called `portfolios`. It should be indexed by `DATE` and the column names are  `reversal_1`to`reversal_5`, where `reversal_1` is the portfolio with the smallest reversal.\n",
    "\n",
    "- Partial hint: You may generate the average returns by `bucket_reversal` and `DATE` first, then reshape the average returns from long to wide. Next, you rename the wide DataFrame."
   ]
  },
  {
   "cell_type": "code",
   "execution_count": 11,
   "id": "aa2dc247-1f9f-469c-9ff1-1e9269ab2724",
   "metadata": {},
   "outputs": [],
   "source": [
    "# Group by 'DATE' and 'bucket_reversal' and calculate the mean return for each portfolio \n",
    "\n",
    "equal_weighted_returns = (\n",
    "    reversal_filtered[['DATE', 'reversal', 'bucket_reversal']]  # Select relevant columns\n",
    "    .groupby(['DATE', 'bucket_reversal'])  # Group by DATE and quintile bucket\n",
    "    .mean()  # Calculate the mean return for each group\n",
    "    .unstack()  # Pivot from long to wide format: DATE as index, 'bucket_reversal' as columns\n",
    ")\n",
    "\n",
    "# Rename the columns \n",
    "equal_weighted_returns.columns = ['reversal_1', 'reversal_2', 'reversal_3', 'reversal_4', 'reversal_5']\n",
    "\n",
    "# Store result in 'portfolios' DataFrame\n",
    "portfolios = equal_weighted_returns\n"
   ]
  },
  {
   "cell_type": "code",
   "execution_count": 12,
   "id": "354aa7a7-8529-42f3-a2af-08f06495fd5e",
   "metadata": {},
   "outputs": [
    {
     "data": {
      "text/html": [
       "<div>\n",
       "<style scoped>\n",
       "    .dataframe tbody tr th:only-of-type {\n",
       "        vertical-align: middle;\n",
       "    }\n",
       "\n",
       "    .dataframe tbody tr th {\n",
       "        vertical-align: top;\n",
       "    }\n",
       "\n",
       "    .dataframe thead th {\n",
       "        text-align: right;\n",
       "    }\n",
       "</style>\n",
       "<table border=\"1\" class=\"dataframe\">\n",
       "  <thead>\n",
       "    <tr style=\"text-align: right;\">\n",
       "      <th></th>\n",
       "      <th>reversal_1</th>\n",
       "      <th>reversal_2</th>\n",
       "      <th>reversal_3</th>\n",
       "      <th>reversal_4</th>\n",
       "      <th>reversal_5</th>\n",
       "    </tr>\n",
       "    <tr>\n",
       "      <th>DATE</th>\n",
       "      <th></th>\n",
       "      <th></th>\n",
       "      <th></th>\n",
       "      <th></th>\n",
       "      <th></th>\n",
       "    </tr>\n",
       "  </thead>\n",
       "  <tbody>\n",
       "    <tr>\n",
       "      <th>2014-03-31</th>\n",
       "      <td>-0.071170</td>\n",
       "      <td>0.007519</td>\n",
       "      <td>0.042284</td>\n",
       "      <td>0.083017</td>\n",
       "      <td>0.190917</td>\n",
       "    </tr>\n",
       "    <tr>\n",
       "      <th>2014-04-30</th>\n",
       "      <td>-0.116162</td>\n",
       "      <td>-0.032297</td>\n",
       "      <td>0.003106</td>\n",
       "      <td>0.034207</td>\n",
       "      <td>0.120914</td>\n",
       "    </tr>\n",
       "    <tr>\n",
       "      <th>2014-05-30</th>\n",
       "      <td>-0.150276</td>\n",
       "      <td>-0.062209</td>\n",
       "      <td>-0.022213</td>\n",
       "      <td>0.012815</td>\n",
       "      <td>0.090022</td>\n",
       "    </tr>\n",
       "    <tr>\n",
       "      <th>2014-06-30</th>\n",
       "      <td>-0.112409</td>\n",
       "      <td>-0.022177</td>\n",
       "      <td>0.010359</td>\n",
       "      <td>0.041357</td>\n",
       "      <td>0.127571</td>\n",
       "    </tr>\n",
       "    <tr>\n",
       "      <th>2014-07-31</th>\n",
       "      <td>-0.055794</td>\n",
       "      <td>0.005346</td>\n",
       "      <td>0.035485</td>\n",
       "      <td>0.069255</td>\n",
       "      <td>0.168842</td>\n",
       "    </tr>\n",
       "  </tbody>\n",
       "</table>\n",
       "</div>"
      ],
      "text/plain": [
       "            reversal_1  reversal_2  reversal_3  reversal_4  reversal_5\n",
       "DATE                                                                  \n",
       "2014-03-31   -0.071170    0.007519    0.042284    0.083017    0.190917\n",
       "2014-04-30   -0.116162   -0.032297    0.003106    0.034207    0.120914\n",
       "2014-05-30   -0.150276   -0.062209   -0.022213    0.012815    0.090022\n",
       "2014-06-30   -0.112409   -0.022177    0.010359    0.041357    0.127571\n",
       "2014-07-31   -0.055794    0.005346    0.035485    0.069255    0.168842"
      ]
     },
     "execution_count": 12,
     "metadata": {},
     "output_type": "execute_result"
    }
   ],
   "source": [
    "# Evaluation cell (do not change)\n",
    "portfolios.head()"
   ]
  },
  {
   "cell_type": "markdown",
   "id": "bf15ed91-eac2-4f21-bee4-1393c80e982b",
   "metadata": {},
   "source": [
    "#### Question 6 (10 points)"
   ]
  },
  {
   "cell_type": "markdown",
   "id": "c61b115c-e071-47f1-a4c4-568f203533c6",
   "metadata": {},
   "source": [
    "Add a column named `reversal_factor` to `portfolios`. `reversal_factor` is the difference between quintile 1 and quintile 5 reversal portfolio returns. "
   ]
  },
  {
   "cell_type": "code",
   "execution_count": 13,
   "id": "09887816-7d5c-4f01-a0d4-e0f78d8fbc96",
   "metadata": {},
   "outputs": [],
   "source": [
    "# Calculate the reversal_factor\n",
    "portfolios['reversal_factor'] = portfolios['reversal_5'] - portfolios['reversal_1']"
   ]
  },
  {
   "cell_type": "code",
   "execution_count": 14,
   "id": "d0f7363b-ddc6-445b-b922-bcfcdc665ee3",
   "metadata": {},
   "outputs": [
    {
     "data": {
      "text/html": [
       "<div>\n",
       "<style scoped>\n",
       "    .dataframe tbody tr th:only-of-type {\n",
       "        vertical-align: middle;\n",
       "    }\n",
       "\n",
       "    .dataframe tbody tr th {\n",
       "        vertical-align: top;\n",
       "    }\n",
       "\n",
       "    .dataframe thead th {\n",
       "        text-align: right;\n",
       "    }\n",
       "</style>\n",
       "<table border=\"1\" class=\"dataframe\">\n",
       "  <thead>\n",
       "    <tr style=\"text-align: right;\">\n",
       "      <th></th>\n",
       "      <th>reversal_1</th>\n",
       "      <th>reversal_2</th>\n",
       "      <th>reversal_3</th>\n",
       "      <th>reversal_4</th>\n",
       "      <th>reversal_5</th>\n",
       "      <th>reversal_factor</th>\n",
       "    </tr>\n",
       "    <tr>\n",
       "      <th>DATE</th>\n",
       "      <th></th>\n",
       "      <th></th>\n",
       "      <th></th>\n",
       "      <th></th>\n",
       "      <th></th>\n",
       "      <th></th>\n",
       "    </tr>\n",
       "  </thead>\n",
       "  <tbody>\n",
       "    <tr>\n",
       "      <th>2014-03-31</th>\n",
       "      <td>-0.071170</td>\n",
       "      <td>0.007519</td>\n",
       "      <td>0.042284</td>\n",
       "      <td>0.083017</td>\n",
       "      <td>0.190917</td>\n",
       "      <td>0.262086</td>\n",
       "    </tr>\n",
       "    <tr>\n",
       "      <th>2014-04-30</th>\n",
       "      <td>-0.116162</td>\n",
       "      <td>-0.032297</td>\n",
       "      <td>0.003106</td>\n",
       "      <td>0.034207</td>\n",
       "      <td>0.120914</td>\n",
       "      <td>0.237075</td>\n",
       "    </tr>\n",
       "    <tr>\n",
       "      <th>2014-05-30</th>\n",
       "      <td>-0.150276</td>\n",
       "      <td>-0.062209</td>\n",
       "      <td>-0.022213</td>\n",
       "      <td>0.012815</td>\n",
       "      <td>0.090022</td>\n",
       "      <td>0.240298</td>\n",
       "    </tr>\n",
       "    <tr>\n",
       "      <th>2014-06-30</th>\n",
       "      <td>-0.112409</td>\n",
       "      <td>-0.022177</td>\n",
       "      <td>0.010359</td>\n",
       "      <td>0.041357</td>\n",
       "      <td>0.127571</td>\n",
       "      <td>0.239979</td>\n",
       "    </tr>\n",
       "    <tr>\n",
       "      <th>2014-07-31</th>\n",
       "      <td>-0.055794</td>\n",
       "      <td>0.005346</td>\n",
       "      <td>0.035485</td>\n",
       "      <td>0.069255</td>\n",
       "      <td>0.168842</td>\n",
       "      <td>0.224636</td>\n",
       "    </tr>\n",
       "  </tbody>\n",
       "</table>\n",
       "</div>"
      ],
      "text/plain": [
       "            reversal_1  reversal_2  reversal_3  reversal_4  reversal_5  \\\n",
       "DATE                                                                     \n",
       "2014-03-31   -0.071170    0.007519    0.042284    0.083017    0.190917   \n",
       "2014-04-30   -0.116162   -0.032297    0.003106    0.034207    0.120914   \n",
       "2014-05-30   -0.150276   -0.062209   -0.022213    0.012815    0.090022   \n",
       "2014-06-30   -0.112409   -0.022177    0.010359    0.041357    0.127571   \n",
       "2014-07-31   -0.055794    0.005346    0.035485    0.069255    0.168842   \n",
       "\n",
       "            reversal_factor  \n",
       "DATE                         \n",
       "2014-03-31         0.262086  \n",
       "2014-04-30         0.237075  \n",
       "2014-05-30         0.240298  \n",
       "2014-06-30         0.239979  \n",
       "2014-07-31         0.224636  "
      ]
     },
     "execution_count": 14,
     "metadata": {},
     "output_type": "execute_result"
    }
   ],
   "source": [
    "portfolios.head()"
   ]
  },
  {
   "cell_type": "code",
   "execution_count": 15,
   "id": "fb38658b-418c-4434-aa87-1f16384b4393",
   "metadata": {},
   "outputs": [
    {
     "data": {
      "text/html": [
       "<div>\n",
       "<style scoped>\n",
       "    .dataframe tbody tr th:only-of-type {\n",
       "        vertical-align: middle;\n",
       "    }\n",
       "\n",
       "    .dataframe tbody tr th {\n",
       "        vertical-align: top;\n",
       "    }\n",
       "\n",
       "    .dataframe thead th {\n",
       "        text-align: right;\n",
       "    }\n",
       "</style>\n",
       "<table border=\"1\" class=\"dataframe\">\n",
       "  <thead>\n",
       "    <tr style=\"text-align: right;\">\n",
       "      <th></th>\n",
       "      <th>reversal_1</th>\n",
       "      <th>reversal_2</th>\n",
       "      <th>reversal_3</th>\n",
       "      <th>reversal_4</th>\n",
       "      <th>reversal_5</th>\n",
       "      <th>reversal_factor</th>\n",
       "    </tr>\n",
       "  </thead>\n",
       "  <tbody>\n",
       "    <tr>\n",
       "      <th>count</th>\n",
       "      <td>118.000000</td>\n",
       "      <td>118.000000</td>\n",
       "      <td>118.000000</td>\n",
       "      <td>118.000000</td>\n",
       "      <td>118.000000</td>\n",
       "      <td>118.000000</td>\n",
       "    </tr>\n",
       "    <tr>\n",
       "      <th>mean</th>\n",
       "      <td>-0.143158</td>\n",
       "      <td>-0.040081</td>\n",
       "      <td>0.004398</td>\n",
       "      <td>0.049379</td>\n",
       "      <td>0.170100</td>\n",
       "      <td>0.313257</td>\n",
       "    </tr>\n",
       "    <tr>\n",
       "      <th>std</th>\n",
       "      <td>0.054826</td>\n",
       "      <td>0.050356</td>\n",
       "      <td>0.049076</td>\n",
       "      <td>0.052407</td>\n",
       "      <td>0.075111</td>\n",
       "      <td>0.062765</td>\n",
       "    </tr>\n",
       "    <tr>\n",
       "      <th>min</th>\n",
       "      <td>-0.449250</td>\n",
       "      <td>-0.279814</td>\n",
       "      <td>-0.186922</td>\n",
       "      <td>-0.102084</td>\n",
       "      <td>0.012168</td>\n",
       "      <td>0.223452</td>\n",
       "    </tr>\n",
       "    <tr>\n",
       "      <th>25%</th>\n",
       "      <td>-0.167614</td>\n",
       "      <td>-0.071772</td>\n",
       "      <td>-0.022439</td>\n",
       "      <td>0.018924</td>\n",
       "      <td>0.121221</td>\n",
       "      <td>0.267955</td>\n",
       "    </tr>\n",
       "    <tr>\n",
       "      <th>50%</th>\n",
       "      <td>-0.132479</td>\n",
       "      <td>-0.029674</td>\n",
       "      <td>0.008805</td>\n",
       "      <td>0.047972</td>\n",
       "      <td>0.159920</td>\n",
       "      <td>0.298486</td>\n",
       "    </tr>\n",
       "    <tr>\n",
       "      <th>75%</th>\n",
       "      <td>-0.106447</td>\n",
       "      <td>-0.012217</td>\n",
       "      <td>0.029325</td>\n",
       "      <td>0.077297</td>\n",
       "      <td>0.204835</td>\n",
       "      <td>0.343680</td>\n",
       "    </tr>\n",
       "    <tr>\n",
       "      <th>max</th>\n",
       "      <td>-0.055794</td>\n",
       "      <td>0.076369</td>\n",
       "      <td>0.141100</td>\n",
       "      <td>0.224522</td>\n",
       "      <td>0.474009</td>\n",
       "      <td>0.547037</td>\n",
       "    </tr>\n",
       "  </tbody>\n",
       "</table>\n",
       "</div>"
      ],
      "text/plain": [
       "       reversal_1  reversal_2  reversal_3  reversal_4  reversal_5  \\\n",
       "count  118.000000  118.000000  118.000000  118.000000  118.000000   \n",
       "mean    -0.143158   -0.040081    0.004398    0.049379    0.170100   \n",
       "std      0.054826    0.050356    0.049076    0.052407    0.075111   \n",
       "min     -0.449250   -0.279814   -0.186922   -0.102084    0.012168   \n",
       "25%     -0.167614   -0.071772   -0.022439    0.018924    0.121221   \n",
       "50%     -0.132479   -0.029674    0.008805    0.047972    0.159920   \n",
       "75%     -0.106447   -0.012217    0.029325    0.077297    0.204835   \n",
       "max     -0.055794    0.076369    0.141100    0.224522    0.474009   \n",
       "\n",
       "       reversal_factor  \n",
       "count       118.000000  \n",
       "mean          0.313257  \n",
       "std           0.062765  \n",
       "min           0.223452  \n",
       "25%           0.267955  \n",
       "50%           0.298486  \n",
       "75%           0.343680  \n",
       "max           0.547037  "
      ]
     },
     "execution_count": 15,
     "metadata": {},
     "output_type": "execute_result"
    }
   ],
   "source": [
    "# Evaluation cell (do not change)\n",
    "portfolios.describe()"
   ]
  },
  {
   "cell_type": "markdown",
   "id": "cc29aff5-079e-42d0-aa71-7132b3e14eb5",
   "metadata": {},
   "source": [
    "#### Question 7 (10 points)\n",
    "Create a bar plot displaying the average returns for the five long-only reversal portfolios (`reversal1` to `reversal5`). Ensure the plot includes appropriate elements such as a title, legend, and axis labels. Next, describe the results.\n"
   ]
  },
  {
   "cell_type": "code",
   "execution_count": 16,
   "id": "171bf395-e2bc-4844-87ee-59d4815ef1ff",
   "metadata": {},
   "outputs": [
    {
     "data": {
      "image/png": "[encoded data removed]",
      "text/plain": [
       "<Figure size 800x600 with 1 Axes>"
      ]
     },
     "metadata": {
      "image/png": {
       "height": 547,
       "width": 711
      }
     },
     "output_type": "display_data"
    }
   ],
   "source": [
    "# Create a single plot to show portfolio returns\n",
    "plt.figure(figsize=(8, 6)) \n",
    "\n",
    "# Plot the average returns for the five long-only reversal portfolios\n",
    "portfolios[['reversal_1', 'reversal_2', 'reversal_3', 'reversal_4', 'reversal_5']].mean().plot(kind='bar')\n",
    "\n",
    "# Set labels and title\n",
    "plt.xlabel('Reversal Portfolio Quintile')\n",
    "plt.ylabel('Mean Monthly Return for Portfolio')\n",
    "plt.title('Average Returns for Five Long-Only Reversal Portfolios')\n",
    "\n",
    "\n",
    "# Add a grid and rotate x-axis labels to make readable\n",
    "plt.grid(True, axis='y', linestyle='--', alpha=0.7)\n",
    "plt.xticks(rotation=0) \n",
    "\n",
    "plt.show()\n"
   ]
  },
  {
   "cell_type": "markdown",
   "id": "db678ea6-f0c6-4126-bd1a-c4d0544a91c0",
   "metadata": {},
   "source": [
    "The results show that **reversal_1**, which includes stocks with the worst recent performance, has a negative return, while **reversal_5**, which includes stocks with the best recent performance, has a positive return. This means that the worst-performing stocks (reversal_1) haven't bounced back yet, while the top-performing stocks (reversal_5) continue to do well. This pattern is typical in reversal strategies, where stocks that have been doing poorly are expected to improve, and those that have been doing well are expected to keep performing strongly."
   ]
  },
  {
   "cell_type": "markdown",
   "id": "b0829d82-4518-417c-8dc4-353030a92fc0",
   "metadata": {},
   "source": [
    "#### Question 8 (20 points)\n",
    "\n",
    "Regress the reversal factor on Fama-French three factors. Report the regression coefficients and p values in a table called `results_ff3`. The table should have intuitive row and column labels. Next, interpret `results_ff3`.\n",
    "- You need to download the Fama-French three factor returns first\n",
    "- Note: the reversal factor is already a long-short portfolio, so there's no need to calculate excess returns to estimate factor models."
   ]
  },
  {
   "cell_type": "code",
   "execution_count": 17,
   "id": "f28b41bf-4593-4fea-8e4a-d893001b56d7",
   "metadata": {},
   "outputs": [
    {
     "name": "stderr",
     "output_type": "stream",
     "text": [
      "C:\\Users\\simri\\AppData\\Local\\Temp\\ipykernel_24656\\4096467673.py:2: FutureWarning: The argument 'date_parser' is deprecated and will be removed in a future version. Please use 'date_format' instead, or read your data in as 'object' dtype and then call 'to_datetime'.\n",
      "  ff3 = web.DataReader('F-F_Research_Data_Factors', 'famafrench', start='2014-03-31')[0]\n",
      "C:\\Users\\simri\\AppData\\Local\\Temp\\ipykernel_24656\\4096467673.py:2: FutureWarning: The argument 'date_parser' is deprecated and will be removed in a future version. Please use 'date_format' instead, or read your data in as 'object' dtype and then call 'to_datetime'.\n",
      "  ff3 = web.DataReader('F-F_Research_Data_Factors', 'famafrench', start='2014-03-31')[0]\n"
     ]
    }
   ],
   "source": [
    "# Download Fama-French 3-factor data\n",
    "ff3 = web.DataReader('F-F_Research_Data_Factors', 'famafrench', start='2014-03-31')[0]\n",
    "\n",
    "# Convert the index from Period to Datetime\n",
    "ff3.index = ff3.index.to_timestamp() \n",
    "\n",
    "# Rename and format columns\n",
    "ff3 = ff3.rename(columns={'Mkt-RF': 'Mkt_RF', 'SMB': 'SMB', 'HML': 'HML'}) \n",
    "ff3 = ff3[['Mkt_RF', 'SMB', 'HML']] / 100\n"
   ]
  },
  {
   "cell_type": "code",
   "execution_count": 18,
   "id": "cf16ce70-4686-4d42-a988-7d67dd71f5f8",
   "metadata": {},
   "outputs": [],
   "source": [
    "# Align indices to end-of-month for both DataFrames\n",
    "portfolios.index = portfolios.index.to_period('M').to_timestamp('M')\n",
    "ff3.index = ff3.index.to_period('M').to_timestamp('M') \n",
    "\n",
    "# Rename index\n",
    "ff3.index.name = 'DATE'\n",
    "\n",
    "# Merge only on overlapping dates\n",
    "merged_data = pd.merge(\n",
    "    portfolios[['reversal_factor']],\n",
    "    ff3,\n",
    "    left_index=True,\n",
    "    right_index=True,\n",
    "    how='inner'\n",
    ")\n",
    "\n",
    "# Drop missing values\n",
    "merged_data = merged_data.dropna()\n"
   ]
  },
  {
   "cell_type": "code",
   "execution_count": 19,
   "id": "a8417475-fd3f-4848-b682-e054546bfeac",
   "metadata": {},
   "outputs": [],
   "source": [
    "# Define dependent (Y) and independent (X) variables and add constant\n",
    "Y = merged_data['reversal_factor']  \n",
    "X = merged_data[['Mkt_RF', 'SMB', 'HML']]  \n",
    "X = sm.add_constant(X)  \n",
    "\n",
    "# Fit the regression model\n",
    "model = sm.OLS(Y, X).fit()"
   ]
  },
  {
   "cell_type": "code",
   "execution_count": 20,
   "id": "17336628-4e51-48be-b60f-d5e1974ae3d4",
   "metadata": {},
   "outputs": [
    {
     "name": "stdout",
     "output_type": "stream",
     "text": [
      "     Factors  Coefficients      P-Values\n",
      "0  Intercept      0.313792  1.065060e-83\n",
      "1     Mkt_RF      0.043440  7.369945e-01\n",
      "2        SMB      0.618331  4.438475e-03\n",
      "3        HML      0.144186  3.368588e-01\n"
     ]
    }
   ],
   "source": [
    "# Show results\n",
    "results_ff3 = pd.DataFrame({\n",
    "    'Factors': ['Intercept', 'Mkt_RF', 'SMB', 'HML'],\n",
    "    'Coefficients': model.params.values,\n",
    "    'P-Values': model.pvalues.values\n",
    "})\n",
    "\n",
    "print(results_ff3)"
   ]
  },
  {
   "cell_type": "code",
   "execution_count": 21,
   "id": "5fcef82e-e6ae-4478-9f68-2ca702fbfda6",
   "metadata": {},
   "outputs": [
    {
     "name": "stdout",
     "output_type": "stream",
     "text": [
      "Code: 10 points; Interpretation: 10 points\n",
      "       Coefficients      P-Values\n",
      "count      4.000000  4.000000e+00\n",
      "mean       0.279937  2.695729e-01\n",
      "std        0.251671  3.492736e-01\n",
      "min        0.043440  1.065060e-83\n",
      "25%        0.119000  3.328856e-03\n",
      "50%        0.228989  1.706486e-01\n",
      "75%        0.389926  4.368927e-01\n",
      "max        0.618331  7.369945e-01\n"
     ]
    }
   ],
   "source": [
    "# Evaluation cell (do not change)\n",
    "print('Code: 10 points; Interpretation: 10 points')\n",
    "print(results_ff3.describe())"
   ]
  },
  {
   "cell_type": "markdown",
   "id": "9945b5e5-adc1-48d1-9aac-9c0dcce02d50",
   "metadata": {},
   "source": [
    "The regression results show that the reversal strategy has a strong **Intercept** (0.3138, p-value < 0.0001), meaning it generates positive returns that are not explained by the Fama-French factors. The **Mkt_RF** factor (0.0434, p-value = 0.737) has a very small and insignificant effect, so the strategy is not strongly linked to overall market movements. The **SMB** factor (0.6183, p-value = 0.0044) is large and significant, meaning that the strategy performs well with small-cap stocks. The **HML** factor (0.1442, p-value = 0.337) has a weak and insignificant effect, so there isn’t a clear connection to value stocks. Overall, the strategy’s success comes mostly from its  small-cap stocks, while the market and value factors don’t have much impact.\n",
    "\n",
    "Looking at the summary statistics for the coefficients and p-values, the average coefficient across all factors is 0.2799, with a wide range from 0.0434 to 0.6183, suggesting that some factors (like SMB) are much stronger than others (like Mkt_RF). The p-values vary a lot, with a mean of 0.2696 and a standard deviation of 0.3493, highlighting that only certain factors (like SMB) are statistically significant, while others (like Mkt_RF and HML) are not. This supports the idea that small-cap stocks drives the reversal strategy’s performance, with other factors having little to no impact."
   ]
  }
 ],
 "metadata": {
  "kernelspec": {
   "display_name": "Python 3 (ipykernel)",
   "language": "python",
   "name": "python3"
  },
  "language_info": {
   "codemirror_mode": {
    "name": "ipython",
    "version": 3
   },
   "file_extension": ".py",
   "mimetype": "text/x-python",
   "name": "python",
   "nbconvert_exporter": "python",
   "pygments_lexer": "ipython3",
   "version": "3.12.4"
  }
 },
 "nbformat": 4,
 "nbformat_minor": 5
}
